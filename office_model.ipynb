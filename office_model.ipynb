{
 "cells": [
  {
   "cell_type": "code",
   "execution_count": 1,
   "metadata": {},
   "outputs": [
    {
     "name": "stderr",
     "output_type": "stream",
     "text": [
      "Using TensorFlow backend.\n"
     ]
    }
   ],
   "source": [
    "import numpy as np\n",
    "import pandas as pd\n",
    "import matplotlib.pyplot as plt\n",
    "from sklearn.ensemble import RandomForestRegressor\n",
    "from sklearn.linear_model import LinearRegression\n",
    "from sklearn.impute import SimpleImputer\n",
    "\n",
    "from sklearn.preprocessing import StandardScaler\n",
    "from sklearn.neural_network import MLPRegressor\n",
    "\n",
    "import keras\n",
    "from keras.models import Sequential\n",
    "from keras.layers import Dense"
   ]
  },
  {
   "cell_type": "code",
   "execution_count": 2,
   "metadata": {},
   "outputs": [],
   "source": [
    "root = 'data/'\n",
    "train_df = pd.read_csv(root + 'train.csv')\n",
    "train_df[\"timestamp\"] = pd.to_datetime(train_df[\"timestamp\"], format='%Y-%m-%d %H:%M:%S')\n",
    "\n",
    "weather_train_df = pd.read_csv(root + 'weather_train.csv')\n",
    "weather_train_df[\"timestamp\"] = pd.to_datetime(weather_train_df[\"timestamp\"], format='%Y-%m-%d %H:%M:%S')\n",
    "\n",
    "# test_df = pd.read_csv(root + 'test.csv')\n",
    "# test_df[\"hour\"] = pd.to_datetime(test_df[\"timestamp\"], format='%Y-%m-%d %H:%M:%S').dt.hour\n",
    "\n",
    "# weather_test_df = pd.read_csv(root + 'weather_test.csv')\n",
    "building_meta_df = pd.read_csv(root + 'building_metadata.csv')\n",
    "sample_submission = pd.read_csv(root + 'sample_submission.csv')\n",
    "\n",
    "weather_test_df = pd.read_csv(root + 'weather_test.csv')"
   ]
  },
  {
   "cell_type": "code",
   "execution_count": 3,
   "metadata": {},
   "outputs": [],
   "source": [
    "def reduce_mem_usage(df, verbose=True):\n",
    "    numerics = ['int16', 'int32', 'int64', 'float16', 'float32', 'float64']\n",
    "    start_mem = df.memory_usage().sum() / 1024**2    \n",
    "    for col in df.columns:\n",
    "        col_type = df[col].dtypes\n",
    "        if col_type in numerics:\n",
    "            c_min = df[col].min()\n",
    "            c_max = df[col].max()\n",
    "            if str(col_type)[:3] == 'int':\n",
    "                if c_min > np.iinfo(np.int8).min and c_max < np.iinfo(np.int8).max:\n",
    "                    df[col] = df[col].astype(np.int8)\n",
    "                elif c_min > np.iinfo(np.int16).min and c_max < np.iinfo(np.int16).max:\n",
    "                    df[col] = df[col].astype(np.int16)\n",
    "                elif c_min > np.iinfo(np.int32).min and c_max < np.iinfo(np.int32).max:\n",
    "                    df[col] = df[col].astype(np.int32)\n",
    "                elif c_min > np.iinfo(np.int64).min and c_max < np.iinfo(np.int64).max:\n",
    "                    df[col] = df[col].astype(np.int64)  \n",
    "            else:\n",
    "                if c_min > np.finfo(np.float16).min and c_max < np.finfo(np.float16).max:\n",
    "                    df[col] = df[col].astype(np.float16)\n",
    "                elif c_min > np.finfo(np.float32).min and c_max < np.finfo(np.float32).max:\n",
    "                    df[col] = df[col].astype(np.float32)\n",
    "                else:\n",
    "                    df[col] = df[col].astype(np.float64)    \n",
    "    end_mem = df.memory_usage().sum() / 1024**2\n",
    "    if verbose: print('Mem. usage decreased to {:5.2f} Mb ({:.1f}% reduction)'.format(end_mem, 100 * (start_mem - end_mem) / start_mem))\n",
    "    return df"
   ]
  },
  {
   "cell_type": "code",
   "execution_count": 4,
   "metadata": {},
   "outputs": [
    {
     "name": "stdout",
     "output_type": "stream",
     "text": [
      "Mem. usage decreased to  6.08 Mb (68.1% reduction)\n"
     ]
    },
    {
     "data": {
      "text/plain": [
       "site_id               0.000000\n",
       "timestamp             0.000000\n",
       "air_temperature       0.000375\n",
       "cloud_coverage        0.506588\n",
       "dew_temperature       0.001179\n",
       "precip_depth_1_hr     0.344781\n",
       "sea_level_pressure    0.076702\n",
       "wind_direction        0.044618\n",
       "wind_speed            0.001659\n",
       "dtype: float64"
      ]
     },
     "execution_count": 4,
     "metadata": {},
     "output_type": "execute_result"
    }
   ],
   "source": [
    "weather_test_df = reduce_mem_usage(weather_test_df)\n",
    "weather_test_df.isnull().sum() / len(weather_test_df)"
   ]
  },
  {
   "cell_type": "code",
   "execution_count": 5,
   "metadata": {},
   "outputs": [
    {
     "name": "stdout",
     "output_type": "stream",
     "text": [
      "Mem. usage decreased to 289.19 Mb (53.1% reduction)\n",
      "Mem. usage decreased to  3.07 Mb (68.1% reduction)\n",
      "Mem. usage decreased to  0.03 Mb (60.3% reduction)\n"
     ]
    }
   ],
   "source": [
    "train_df = reduce_mem_usage(train_df)\n",
    "weather_train_df = reduce_mem_usage(weather_train_df)\n",
    "building_meta_df = reduce_mem_usage(building_meta_df)"
   ]
  },
  {
   "cell_type": "code",
   "execution_count": 6,
   "metadata": {},
   "outputs": [
    {
     "data": {
      "text/plain": [
       "array(['building_id', 'meter', 'timestamp', 'meter_reading'], dtype=object)"
      ]
     },
     "execution_count": 6,
     "metadata": {},
     "output_type": "execute_result"
    }
   ],
   "source": [
    "train_df.columns.values"
   ]
  },
  {
   "cell_type": "code",
   "execution_count": 7,
   "metadata": {},
   "outputs": [
    {
     "data": {
      "text/plain": [
       "array(['site_id', 'building_id', 'primary_use', 'square_feet',\n",
       "       'year_built', 'floor_count'], dtype=object)"
      ]
     },
     "execution_count": 7,
     "metadata": {},
     "output_type": "execute_result"
    }
   ],
   "source": [
    "building_meta_df.columns.values"
   ]
  },
  {
   "cell_type": "code",
   "execution_count": 8,
   "metadata": {},
   "outputs": [
    {
     "data": {
      "text/plain": [
       "site_id               0.000000\n",
       "timestamp             0.000000\n",
       "air_temperature       0.000393\n",
       "cloud_coverage        0.494895\n",
       "dew_temperature       0.000808\n",
       "precip_depth_1_hr     0.359791\n",
       "sea_level_pressure    0.075966\n",
       "wind_direction        0.044844\n",
       "wind_speed            0.002175\n",
       "dtype: float64"
      ]
     },
     "execution_count": 8,
     "metadata": {},
     "output_type": "execute_result"
    }
   ],
   "source": [
    "weather_train_df.isnull().sum() / len(weather_train_df)"
   ]
  },
  {
   "cell_type": "code",
   "execution_count": 9,
   "metadata": {},
   "outputs": [
    {
     "name": "stdout",
     "output_type": "stream",
     "text": [
      "rows: 8782\n"
     ]
    },
    {
     "data": {
      "text/html": [
       "<div>\n",
       "<style scoped>\n",
       "    .dataframe tbody tr th:only-of-type {\n",
       "        vertical-align: middle;\n",
       "    }\n",
       "\n",
       "    .dataframe tbody tr th {\n",
       "        vertical-align: top;\n",
       "    }\n",
       "\n",
       "    .dataframe thead th {\n",
       "        text-align: right;\n",
       "    }\n",
       "</style>\n",
       "<table border=\"1\" class=\"dataframe\">\n",
       "  <thead>\n",
       "    <tr style=\"text-align: right;\">\n",
       "      <th></th>\n",
       "      <th>building_id</th>\n",
       "      <th>meter</th>\n",
       "      <th>timestamp</th>\n",
       "      <th>meter_reading</th>\n",
       "      <th>site_id</th>\n",
       "      <th>primary_use</th>\n",
       "      <th>square_feet</th>\n",
       "      <th>year_built</th>\n",
       "      <th>floor_count</th>\n",
       "    </tr>\n",
       "  </thead>\n",
       "  <tbody>\n",
       "    <tr>\n",
       "      <th>4988920</th>\n",
       "      <td>390</td>\n",
       "      <td>0</td>\n",
       "      <td>2016-01-01 00:00:00</td>\n",
       "      <td>56.840000</td>\n",
       "      <td>3</td>\n",
       "      <td>Office</td>\n",
       "      <td>34400</td>\n",
       "      <td>NaN</td>\n",
       "      <td>NaN</td>\n",
       "    </tr>\n",
       "    <tr>\n",
       "      <th>4988921</th>\n",
       "      <td>390</td>\n",
       "      <td>0</td>\n",
       "      <td>2016-01-01 01:00:00</td>\n",
       "      <td>58.549999</td>\n",
       "      <td>3</td>\n",
       "      <td>Office</td>\n",
       "      <td>34400</td>\n",
       "      <td>NaN</td>\n",
       "      <td>NaN</td>\n",
       "    </tr>\n",
       "    <tr>\n",
       "      <th>4988922</th>\n",
       "      <td>390</td>\n",
       "      <td>0</td>\n",
       "      <td>2016-01-01 02:00:00</td>\n",
       "      <td>58.290001</td>\n",
       "      <td>3</td>\n",
       "      <td>Office</td>\n",
       "      <td>34400</td>\n",
       "      <td>NaN</td>\n",
       "      <td>NaN</td>\n",
       "    </tr>\n",
       "    <tr>\n",
       "      <th>4988923</th>\n",
       "      <td>390</td>\n",
       "      <td>0</td>\n",
       "      <td>2016-01-01 03:00:00</td>\n",
       "      <td>58.810001</td>\n",
       "      <td>3</td>\n",
       "      <td>Office</td>\n",
       "      <td>34400</td>\n",
       "      <td>NaN</td>\n",
       "      <td>NaN</td>\n",
       "    </tr>\n",
       "    <tr>\n",
       "      <th>4988924</th>\n",
       "      <td>390</td>\n",
       "      <td>0</td>\n",
       "      <td>2016-01-01 04:00:00</td>\n",
       "      <td>59.099998</td>\n",
       "      <td>3</td>\n",
       "      <td>Office</td>\n",
       "      <td>34400</td>\n",
       "      <td>NaN</td>\n",
       "      <td>NaN</td>\n",
       "    </tr>\n",
       "  </tbody>\n",
       "</table>\n",
       "</div>"
      ],
      "text/plain": [
       "         building_id  meter           timestamp  meter_reading  site_id  \\\n",
       "4988920          390      0 2016-01-01 00:00:00      56.840000        3   \n",
       "4988921          390      0 2016-01-01 01:00:00      58.549999        3   \n",
       "4988922          390      0 2016-01-01 02:00:00      58.290001        3   \n",
       "4988923          390      0 2016-01-01 03:00:00      58.810001        3   \n",
       "4988924          390      0 2016-01-01 04:00:00      59.099998        3   \n",
       "\n",
       "        primary_use  square_feet  year_built  floor_count  \n",
       "4988920      Office        34400         NaN          NaN  \n",
       "4988921      Office        34400         NaN          NaN  \n",
       "4988922      Office        34400         NaN          NaN  \n",
       "4988923      Office        34400         NaN          NaN  \n",
       "4988924      Office        34400         NaN          NaN  "
      ]
     },
     "execution_count": 9,
     "metadata": {},
     "output_type": "execute_result"
    }
   ],
   "source": [
    "# let us select only office buildings with meter 0 measurements\n",
    "b_data = pd.merge(train_df, building_meta_df, on='building_id')\n",
    "b_0 = b_data.query('building_id==390 and meter==0')\n",
    "print(\"rows:\", len(b_0))\n",
    "b_0.head()"
   ]
  },
  {
   "cell_type": "code",
   "execution_count": 10,
   "metadata": {},
   "outputs": [
    {
     "name": "stdout",
     "output_type": "stream",
     "text": [
      "records: 8778\n",
      "records after dropping NaN: 8772\n",
      "rows in dataset: 8772\n"
     ]
    },
    {
     "data": {
      "text/html": [
       "<div>\n",
       "<style scoped>\n",
       "    .dataframe tbody tr th:only-of-type {\n",
       "        vertical-align: middle;\n",
       "    }\n",
       "\n",
       "    .dataframe tbody tr th {\n",
       "        vertical-align: top;\n",
       "    }\n",
       "\n",
       "    .dataframe thead th {\n",
       "        text-align: right;\n",
       "    }\n",
       "</style>\n",
       "<table border=\"1\" class=\"dataframe\">\n",
       "  <thead>\n",
       "    <tr style=\"text-align: right;\">\n",
       "      <th></th>\n",
       "      <th>building_id</th>\n",
       "      <th>timestamp</th>\n",
       "      <th>meter_reading</th>\n",
       "      <th>site_id</th>\n",
       "      <th>square_feet</th>\n",
       "      <th>air_temperature</th>\n",
       "      <th>dew_temperature</th>\n",
       "      <th>Y</th>\n",
       "      <th>workhour</th>\n",
       "      <th>workday</th>\n",
       "    </tr>\n",
       "  </thead>\n",
       "  <tbody>\n",
       "    <tr>\n",
       "      <th>0</th>\n",
       "      <td>390</td>\n",
       "      <td>2016-01-01 00:00:00</td>\n",
       "      <td>56.840000</td>\n",
       "      <td>3</td>\n",
       "      <td>34400</td>\n",
       "      <td>10.000000</td>\n",
       "      <td>2.199219</td>\n",
       "      <td>0.001652</td>\n",
       "      <td>False</td>\n",
       "      <td>True</td>\n",
       "    </tr>\n",
       "    <tr>\n",
       "      <th>1</th>\n",
       "      <td>390</td>\n",
       "      <td>2016-01-01 01:00:00</td>\n",
       "      <td>58.549999</td>\n",
       "      <td>3</td>\n",
       "      <td>34400</td>\n",
       "      <td>9.398438</td>\n",
       "      <td>2.800781</td>\n",
       "      <td>0.001702</td>\n",
       "      <td>False</td>\n",
       "      <td>True</td>\n",
       "    </tr>\n",
       "    <tr>\n",
       "      <th>2</th>\n",
       "      <td>390</td>\n",
       "      <td>2016-01-01 02:00:00</td>\n",
       "      <td>58.290001</td>\n",
       "      <td>3</td>\n",
       "      <td>34400</td>\n",
       "      <td>8.898438</td>\n",
       "      <td>2.199219</td>\n",
       "      <td>0.001694</td>\n",
       "      <td>False</td>\n",
       "      <td>True</td>\n",
       "    </tr>\n",
       "    <tr>\n",
       "      <th>3</th>\n",
       "      <td>390</td>\n",
       "      <td>2016-01-01 03:00:00</td>\n",
       "      <td>58.810001</td>\n",
       "      <td>3</td>\n",
       "      <td>34400</td>\n",
       "      <td>7.800781</td>\n",
       "      <td>1.099609</td>\n",
       "      <td>0.001710</td>\n",
       "      <td>False</td>\n",
       "      <td>True</td>\n",
       "    </tr>\n",
       "    <tr>\n",
       "      <th>4</th>\n",
       "      <td>390</td>\n",
       "      <td>2016-01-01 04:00:00</td>\n",
       "      <td>59.099998</td>\n",
       "      <td>3</td>\n",
       "      <td>34400</td>\n",
       "      <td>7.800781</td>\n",
       "      <td>0.600098</td>\n",
       "      <td>0.001718</td>\n",
       "      <td>False</td>\n",
       "      <td>True</td>\n",
       "    </tr>\n",
       "  </tbody>\n",
       "</table>\n",
       "</div>"
      ],
      "text/plain": [
       "   building_id           timestamp  meter_reading  site_id  square_feet  \\\n",
       "0          390 2016-01-01 00:00:00      56.840000        3        34400   \n",
       "1          390 2016-01-01 01:00:00      58.549999        3        34400   \n",
       "2          390 2016-01-01 02:00:00      58.290001        3        34400   \n",
       "3          390 2016-01-01 03:00:00      58.810001        3        34400   \n",
       "4          390 2016-01-01 04:00:00      59.099998        3        34400   \n",
       "\n",
       "   air_temperature  dew_temperature         Y  workhour  workday  \n",
       "0        10.000000         2.199219  0.001652     False     True  \n",
       "1         9.398438         2.800781  0.001702     False     True  \n",
       "2         8.898438         2.199219  0.001694     False     True  \n",
       "3         7.800781         1.099609  0.001710     False     True  \n",
       "4         7.800781         0.600098  0.001718     False     True  "
      ]
     },
     "execution_count": 10,
     "metadata": {},
     "output_type": "execute_result"
    }
   ],
   "source": [
    "# now let us add weather\n",
    "\n",
    "# let us merge it with weather for this site\n",
    "b = b_0.drop(columns=['meter', 'primary_use', 'year_built', 'floor_count'])\n",
    "b = pd.merge(b, weather_train_df, on=['site_id','timestamp'])\n",
    "b['timestamp'] = pd.to_datetime(b[\"timestamp\"], format='%Y-%m-%d %H:%M:%S')\n",
    "print(\"records:\", len(b))\n",
    "\n",
    "b = b.drop(columns=['cloud_coverage', 'precip_depth_1_hr', 'sea_level_pressure', \n",
    "                    'wind_direction', 'wind_speed'])\n",
    "                    \n",
    "b = b.dropna()\n",
    "print(\"records after dropping NaN:\", len(b))\n",
    "\n",
    "# b = b[b['square_feet'] > 0]\n",
    "b['Y'] = b['meter_reading'] / b['square_feet']\n",
    "b['workhour'] = np.abs(b['timestamp'].dt.hour - 12) < 5.5\n",
    "b['workday'] = b['timestamp'].dt.weekday < 5\n",
    "\n",
    "print(\"rows in dataset:\", len(b))\n",
    "# b = b.query('timestamp == \"2016-03-12 14:00:00\"')\n",
    "b.head()"
   ]
  },
  {
   "cell_type": "code",
   "execution_count": 11,
   "metadata": {},
   "outputs": [
    {
     "data": {
      "text/html": [
       "<div>\n",
       "<style scoped>\n",
       "    .dataframe tbody tr th:only-of-type {\n",
       "        vertical-align: middle;\n",
       "    }\n",
       "\n",
       "    .dataframe tbody tr th {\n",
       "        vertical-align: top;\n",
       "    }\n",
       "\n",
       "    .dataframe thead th {\n",
       "        text-align: right;\n",
       "    }\n",
       "</style>\n",
       "<table border=\"1\" class=\"dataframe\">\n",
       "  <thead>\n",
       "    <tr style=\"text-align: right;\">\n",
       "      <th></th>\n",
       "      <th>building_id</th>\n",
       "      <th>air_temperature</th>\n",
       "      <th>dew_temperature</th>\n",
       "      <th>Y</th>\n",
       "      <th>workhour</th>\n",
       "      <th>workday</th>\n",
       "    </tr>\n",
       "  </thead>\n",
       "  <tbody>\n",
       "    <tr>\n",
       "      <th>0</th>\n",
       "      <td>390</td>\n",
       "      <td>10.000000</td>\n",
       "      <td>2.199219</td>\n",
       "      <td>0.001652</td>\n",
       "      <td>0</td>\n",
       "      <td>1</td>\n",
       "    </tr>\n",
       "    <tr>\n",
       "      <th>1</th>\n",
       "      <td>390</td>\n",
       "      <td>9.398438</td>\n",
       "      <td>2.800781</td>\n",
       "      <td>0.001702</td>\n",
       "      <td>0</td>\n",
       "      <td>1</td>\n",
       "    </tr>\n",
       "    <tr>\n",
       "      <th>2</th>\n",
       "      <td>390</td>\n",
       "      <td>8.898438</td>\n",
       "      <td>2.199219</td>\n",
       "      <td>0.001694</td>\n",
       "      <td>0</td>\n",
       "      <td>1</td>\n",
       "    </tr>\n",
       "    <tr>\n",
       "      <th>3</th>\n",
       "      <td>390</td>\n",
       "      <td>7.800781</td>\n",
       "      <td>1.099609</td>\n",
       "      <td>0.001710</td>\n",
       "      <td>0</td>\n",
       "      <td>1</td>\n",
       "    </tr>\n",
       "    <tr>\n",
       "      <th>4</th>\n",
       "      <td>390</td>\n",
       "      <td>7.800781</td>\n",
       "      <td>0.600098</td>\n",
       "      <td>0.001718</td>\n",
       "      <td>0</td>\n",
       "      <td>1</td>\n",
       "    </tr>\n",
       "  </tbody>\n",
       "</table>\n",
       "</div>"
      ],
      "text/plain": [
       "   building_id  air_temperature  dew_temperature         Y  workhour  workday\n",
       "0          390        10.000000         2.199219  0.001652         0        1\n",
       "1          390         9.398438         2.800781  0.001702         0        1\n",
       "2          390         8.898438         2.199219  0.001694         0        1\n",
       "3          390         7.800781         1.099609  0.001710         0        1\n",
       "4          390         7.800781         0.600098  0.001718         0        1"
      ]
     },
     "execution_count": 11,
     "metadata": {},
     "output_type": "execute_result"
    }
   ],
   "source": [
    "# zero values for meter_readings looks abnormally\n",
    "\n",
    "bld = b.drop(columns=['meter_reading', 'site_id', 'timestamp', 'square_feet'])\n",
    "bld = bld.astype({'building_id':int, 'workhour': int, 'workday': int})\n",
    "bld.head()\n",
    "\n"
   ]
  },
  {
   "cell_type": "code",
   "execution_count": null,
   "metadata": {},
   "outputs": [],
   "source": [
    "bld.values"
   ]
  },
  {
   "cell_type": "code",
   "execution_count": null,
   "metadata": {},
   "outputs": [],
   "source": [
    "def b_id_to_vec(b_id):\n",
    "    vec = np.zeros(1449)\n",
    "    vec[int(b_id)] = 1\n",
    "    return vec\n",
    "\n",
    "def to_XY(matrix):\n",
    "    X = np.zeros((len(matrix), 1453))\n",
    "    Y = np.zeros(len(matrix))\n",
    "    for i in range(len(matrix)):\n",
    "        b, t1, t2, y, h, d = matrix[i]\n",
    "        X[i] = np.hstack([b_id_to_vec(b), t1/50, t2/50, h, d])\n",
    "        Y[i] = y\n",
    "    return (X,Y)\n",
    "    "
   ]
  },
  {
   "cell_type": "code",
   "execution_count": 16,
   "metadata": {},
   "outputs": [],
   "source": [
    "Y = bld.values[:,3]\n",
    "b_x = bld.drop(columns=['building_id', 'Y'])\n",
    "X = b_x.values / np.array([50, 10, 1, 1])"
   ]
  },
  {
   "cell_type": "code",
   "execution_count": 17,
   "metadata": {},
   "outputs": [
    {
     "name": "stdout",
     "output_type": "stream",
     "text": [
      "WARNING:tensorflow:From /Users/ian/anaconda2/envs/net/lib/python3.6/site-packages/tensorflow/python/framework/op_def_library.py:263: colocate_with (from tensorflow.python.framework.ops) is deprecated and will be removed in a future version.\n",
      "Instructions for updating:\n",
      "Colocations handled automatically by placer.\n"
     ]
    }
   ],
   "source": [
    "model = Sequential()\n",
    "model.add(Dense(6, input_dim=4, activation=\"relu\"))\n",
    "model.add(Dense(1, activation=\"relu\"))"
   ]
  },
  {
   "cell_type": "code",
   "execution_count": 18,
   "metadata": {},
   "outputs": [],
   "source": [
    "model.compile(loss=\"mean_squared_error\", optimizer='adam', metrics=['accuracy'])"
   ]
  },
  {
   "cell_type": "code",
   "execution_count": null,
   "metadata": {},
   "outputs": [
    {
     "name": "stdout",
     "output_type": "stream",
     "text": [
      "WARNING:tensorflow:From /Users/ian/anaconda2/envs/net/lib/python3.6/site-packages/tensorflow/python/ops/math_ops.py:3066: to_int32 (from tensorflow.python.ops.math_ops) is deprecated and will be removed in a future version.\n",
      "Instructions for updating:\n",
      "Use tf.cast instead.\n",
      "Epoch 1/100\n"
     ]
    }
   ],
   "source": [
    "history = model.fit(X, Y, epochs=100, batch_size=64)"
   ]
  },
  {
   "cell_type": "code",
   "execution_count": null,
   "metadata": {},
   "outputs": [],
   "source": []
  },
  {
   "cell_type": "code",
   "execution_count": null,
   "metadata": {},
   "outputs": [],
   "source": [
    "g = nn.predict(X)\n",
    "plt.scatter(X[:,0],g)\n",
    "plt.show()"
   ]
  },
  {
   "cell_type": "code",
   "execution_count": null,
   "metadata": {},
   "outputs": [],
   "source": [
    "nn.coefs_"
   ]
  },
  {
   "cell_type": "code",
   "execution_count": null,
   "metadata": {},
   "outputs": [],
   "source": []
  },
  {
   "cell_type": "code",
   "execution_count": null,
   "metadata": {},
   "outputs": [],
   "source": []
  },
  {
   "cell_type": "code",
   "execution_count": null,
   "metadata": {},
   "outputs": [],
   "source": []
  }
 ],
 "metadata": {
  "kernelspec": {
   "display_name": "Python 3",
   "language": "python",
   "name": "python3"
  },
  "language_info": {
   "codemirror_mode": {
    "name": "ipython",
    "version": 3
   },
   "file_extension": ".py",
   "mimetype": "text/x-python",
   "name": "python",
   "nbconvert_exporter": "python",
   "pygments_lexer": "ipython3",
   "version": "3.6.8"
  }
 },
 "nbformat": 4,
 "nbformat_minor": 2
}
